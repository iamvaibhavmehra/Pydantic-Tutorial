{
 "cells": [
  {
   "cell_type": "markdown",
   "id": "48e269fa",
   "metadata": {},
   "source": [
    "# Welcome to the Pydantic Tutorial!\n",
    "\n",
    "\n",
    "Pre-requisites:\n",
    "1. Python\n",
    "2. Basic OOP knowledge\n",
    "\n",
    "🔍 Pydantic is a data validation and parsing library that enforces type hints at runtime using Python’s built-in type annotations.\n",
    "\n",
    "In simpler words we can get: \n",
    "\n",
    "1. 🤖 Automatic Checking - checks that the data we receive matches the types and constraints we define in our model\n",
    "2. 🔁 Conversion - it tries to convert data to the correct type whenever possible\n",
    "3. 🧱 Structured Data Handling - lets us define complex, nested data structures using models, and ensures all the data inside is validated and accessible in a structured way\n",
    "\n",
    "... without having to write a lot of if-else conditional statements.\n",
    "\n",
    "\n",
    "When writing in Python, we often work with APIs, databases, forms, JSON, and all sorts of external data. This data can be messy, inconsistent, or wrongly typed, which can result in a lot of errors.\n",
    "\n",
    "Pydantic makes sure the data you're working with is correct, clean, and well-structured.\n",
    "\n",
    "\n",
    "\n",
    "⏰ **TLDR: You define the shape of your data once — and Pydantic ensures it stays that way"
   ]
  },
  {
   "cell_type": "code",
   "execution_count": 22,
   "id": "46d590fe",
   "metadata": {},
   "outputs": [
    {
     "name": "stdout",
     "output_type": "stream",
     "text": [
      "Requirement already satisfied: pydantic in c:\\vaibhav\\pnd\\venv\\lib\\site-packages (2.11.7)\n",
      "Requirement already satisfied: annotated-types>=0.6.0 in c:\\vaibhav\\pnd\\venv\\lib\\site-packages (from pydantic) (0.7.0)\n",
      "Requirement already satisfied: pydantic-core==2.33.2 in c:\\vaibhav\\pnd\\venv\\lib\\site-packages (from pydantic) (2.33.2)\n",
      "Requirement already satisfied: typing-extensions>=4.12.2 in c:\\vaibhav\\pnd\\venv\\lib\\site-packages (from pydantic) (4.14.1)\n",
      "Requirement already satisfied: typing-inspection>=0.4.0 in c:\\vaibhav\\pnd\\venv\\lib\\site-packages (from pydantic) (0.4.1)\n"
     ]
    },
    {
     "name": "stderr",
     "output_type": "stream",
     "text": [
      "\n",
      "[notice] A new release of pip is available: 24.2 -> 25.1.1\n",
      "[notice] To update, run: python.exe -m pip install --upgrade pip\n"
     ]
    },
    {
     "name": "stdout",
     "output_type": "stream",
     "text": [
      "Requirement already satisfied: pydantic[email] in c:\\vaibhav\\pnd\\venv\\lib\\site-packages (2.11.7)\n",
      "Requirement already satisfied: annotated-types>=0.6.0 in c:\\vaibhav\\pnd\\venv\\lib\\site-packages (from pydantic[email]) (0.7.0)\n",
      "Requirement already satisfied: pydantic-core==2.33.2 in c:\\vaibhav\\pnd\\venv\\lib\\site-packages (from pydantic[email]) (2.33.2)\n",
      "Requirement already satisfied: typing-extensions>=4.12.2 in c:\\vaibhav\\pnd\\venv\\lib\\site-packages (from pydantic[email]) (4.14.1)\n",
      "Requirement already satisfied: typing-inspection>=0.4.0 in c:\\vaibhav\\pnd\\venv\\lib\\site-packages (from pydantic[email]) (0.4.1)\n",
      "Requirement already satisfied: email-validator>=2.0.0 in c:\\vaibhav\\pnd\\venv\\lib\\site-packages (from pydantic[email]) (2.2.0)\n",
      "Requirement already satisfied: dnspython>=2.0.0 in c:\\vaibhav\\pnd\\venv\\lib\\site-packages (from email-validator>=2.0.0->pydantic[email]) (2.7.0)\n",
      "Requirement already satisfied: idna>=2.0.0 in c:\\vaibhav\\pnd\\venv\\lib\\site-packages (from email-validator>=2.0.0->pydantic[email]) (3.10)\n"
     ]
    },
    {
     "name": "stderr",
     "output_type": "stream",
     "text": [
      "\n",
      "[notice] A new release of pip is available: 24.2 -> 25.1.1\n",
      "[notice] To update, run: python.exe -m pip install --upgrade pip\n"
     ]
    }
   ],
   "source": [
    "!pip install pydantic\n",
    "!pip install pydantic[email]"
   ]
  },
  {
   "cell_type": "code",
   "execution_count": 23,
   "id": "f22e5a5c",
   "metadata": {},
   "outputs": [
    {
     "name": "stdout",
     "output_type": "stream",
     "text": [
      "2.11.7\n"
     ]
    }
   ],
   "source": [
    "import pydantic\n",
    "print(pydantic.__version__) # Must be higher than 2.0"
   ]
  },
  {
   "cell_type": "markdown",
   "id": "232efc1a",
   "metadata": {},
   "source": [
    "# Basic Models\n",
    "\n",
    "Let's create our first Pydantic model!"
   ]
  },
  {
   "cell_type": "code",
   "execution_count": 24,
   "id": "6002a11a",
   "metadata": {},
   "outputs": [
    {
     "name": "stdout",
     "output_type": "stream",
     "text": [
      "name='Bob' age=30 is_active=True\n",
      "{'name': 'Bob', 'age': 30, 'is_active': True}\n"
     ]
    }
   ],
   "source": [
    "from pydantic import BaseModel # Importing BaseModel - to enforce type hints at runtime\n",
    "\n",
    "class User(BaseModel):\n",
    "    name: str # Type hints are rquired\n",
    "    age: int\n",
    "    is_active: bool\n",
    "\n",
    "# Create an instance\n",
    "user1 = User(name=\"Bob\", age=30, is_active= True)\n",
    "print(user1)\n",
    "print(user1.model_dump()) # We can also print it like this"
   ]
  },
  {
   "cell_type": "code",
   "execution_count": 26,
   "id": "31a66655",
   "metadata": {},
   "outputs": [
    {
     "name": "stdout",
     "output_type": "stream",
     "text": [
      "name='Jeff' age=16 subject='Mathematics'\n"
     ]
    }
   ],
   "source": [
    "# We can also set default values\n",
    "class Student(BaseModel):\n",
    "    name: str \n",
    "    age: int = 18 # We can set default values as well\n",
    "    subject: str\n",
    "\n",
    "# Here, we don't need to pass in the age, if we do it will overwrite the default\n",
    "student1 = Student(name=\"Jeff\", age = 16, subject= \"Mathematics\") \n",
    "print(student1)"
   ]
  },
  {
   "cell_type": "code",
   "execution_count": 28,
   "id": "6b7943ba",
   "metadata": {},
   "outputs": [
    {
     "name": "stdout",
     "output_type": "stream",
     "text": [
      "name='Bob' age=25 is_active=True\n",
      "<class 'int'>\n",
      "1 validation error for User\n",
      "age\n",
      "  Input should be a valid integer, unable to parse string as an integer [type=int_parsing, input_value='twenty', input_type=str]\n",
      "    For further information visit https://errors.pydantic.dev/2.11/v/int_parsing\n"
     ]
    }
   ],
   "source": [
    "# Type Validation\n",
    "\n",
    "user2 = User(name=\"Bob\", age=\"25\", is_active=True)  # String age gets converted to int - AUTOMATIC!\n",
    "print(user2)  # name='Bob' age=25 is_active=True\n",
    "print(type(user2.age))\n",
    "\n",
    "# Now lets try an invalid case\n",
    "try:\n",
    "    User(name=\"Charlie\", age=\"twenty\", is_active=False)\n",
    "except ValueError as e:\n",
    "    print(e)"
   ]
  },
  {
   "cell_type": "markdown",
   "id": "3d8960a9",
   "metadata": {},
   "source": [
    "## Fields\n",
    "\n",
    "In Pydantic, `Field()` lets us add metadata, validation rules, and custom behavior to a model field.\n",
    "\n",
    "For further information, you can use the documentation: https://docs.pydantic.dev/latest/concepts/fields/"
   ]
  },
  {
   "cell_type": "code",
   "execution_count": 29,
   "id": "3ee29920",
   "metadata": {},
   "outputs": [
    {
     "name": "stdout",
     "output_type": "stream",
     "text": [
      "name='Vaibhav'\n"
     ]
    }
   ],
   "source": [
    "# Basic example using Field()\n",
    "from pydantic import BaseModel, Field\n",
    "\n",
    "class FieldUser(BaseModel):\n",
    "    name: str = Field(description=\"The user's full name\") # this does not mean it is default!\n",
    "\n",
    "\n",
    "field_user1 = FieldUser(name = \"Vaibhav\")\n",
    "print(field_user1)"
   ]
  },
  {
   "cell_type": "code",
   "execution_count": 30,
   "id": "cf9a4ec2",
   "metadata": {},
   "outputs": [
    {
     "name": "stdout",
     "output_type": "stream",
     "text": [
      "name='John'\n"
     ]
    }
   ],
   "source": [
    "# if we want defaults, we can add on this parameter\n",
    "class FieldUserDefault(BaseModel):\n",
    "    name: str = Field(description=\"The user's full name\", default = \"John\" )\n",
    "\n",
    "\n",
    "field_user2 = FieldUserDefault() # did not pass anything this time!\n",
    "print(field_user2)"
   ]
  },
  {
   "cell_type": "markdown",
   "id": "7742e546",
   "metadata": {},
   "source": [
    "Now we are going to explore a problem: ⚠️\n",
    "\n",
    "Pydantic does NOT validate the default value by default. For example:"
   ]
  },
  {
   "cell_type": "code",
   "execution_count": 31,
   "id": "a8a43a47",
   "metadata": {},
   "outputs": [
    {
     "name": "stdout",
     "output_type": "stream",
     "text": [
      "twelve\n",
      "<class 'str'>\n"
     ]
    }
   ],
   "source": [
    "class FlawUser(BaseModel):\n",
    "    age: int = Field(default=\"twelve\")\n",
    "\n",
    "user = FlawUser()\n",
    "print(user.age)  # This gives: \"twelve\" which is wrong!\n",
    "print(type(user.age))"
   ]
  },
  {
   "cell_type": "markdown",
   "id": "eac99a50",
   "metadata": {},
   "source": [
    "This happens because Pydantic only validates user input by default.\n",
    "\n",
    "However, we can force validation like this:"
   ]
  },
  {
   "cell_type": "code",
   "execution_count": 33,
   "id": "d1706afb",
   "metadata": {},
   "outputs": [
    {
     "name": "stdout",
     "output_type": "stream",
     "text": [
      "1 validation error for ProperUser\n",
      "age\n",
      "  Input should be a valid integer, unable to parse string as an integer [type=int_parsing, input_value='twelve', input_type=str]\n",
      "    For further information visit https://errors.pydantic.dev/2.11/v/int_parsing\n"
     ]
    }
   ],
   "source": [
    "from pydantic import BaseModel, Field, ValidationError\n",
    "\n",
    "class ProperUser(BaseModel):\n",
    "    age: int = Field(default=\"twelve\", validate_default=True)  # Force validation\n",
    "\n",
    "try:\n",
    "    user = ProperUser()\n",
    "except ValidationError as e:\n",
    "    print(e)"
   ]
  },
  {
   "cell_type": "markdown",
   "id": "46e94861",
   "metadata": {},
   "source": [
    "### Aliasing \n",
    "\n",
    "An alias is a different name that our model can use to:\n",
    "1. Accept input (validation)\n",
    "2. Give output (serialization)\n",
    "\n",
    "This is helpful when the external name ≠ internal variable name.\n",
    "\n",
    "Lets explore a real-world example together: \n",
    "\n",
    "Suppose we are working with a logistics API:\n",
    "\n",
    "**JSON from the API:**\n",
    "\n",
    "```javascript\n",
    "{\n",
    "  \"pkg_weight_kg\": 4.5,\n",
    "  \"pkg_dest\": \"Singapore\",\n",
    "  \"pkg_is_fragile\": true\n",
    "}\n",
    "```\n",
    "\n",
    "But in our python backend code, we would prefer:\n",
    "- weight\n",
    "- destination\n",
    "- is_fragile"
   ]
  },
  {
   "cell_type": "code",
   "execution_count": 36,
   "id": "9880a1d9",
   "metadata": {},
   "outputs": [
    {
     "name": "stdout",
     "output_type": "stream",
     "text": [
      "4.5\n",
      "Singapore\n",
      "True\n",
      "{'pkg_weight_kg': 4.5, 'pkg_dest': 'Singapore', 'pkg_is_fragile': True}\n"
     ]
    }
   ],
   "source": [
    "class Package(BaseModel):\n",
    "    weight: float = Field(alias=\"pkg_weight_kg\")\n",
    "    destination: str = Field(alias=\"pkg_dest\")\n",
    "    is_fragile: bool = Field(alias=\"pkg_is_fragile\")\n",
    "\n",
    "# Order of data doesn't matter, as long as they are named correctly!\n",
    "data = {\n",
    "    \"pkg_weight_kg\": 4.5,\n",
    "    \"pkg_is_fragile\": True,\n",
    "    \"pkg_dest\": \"Singapore\"\n",
    "}\n",
    "\n",
    "package = Package(**data) # Unpacking the Dictionary - takes eacch key-value pair and passes them as named arguments.\n",
    "\n",
    "# We can access using our own field names\n",
    "print(package.weight)   \n",
    "#print(package.pkg_weight_kg) # No such thing!     \n",
    "print(package.destination)   \n",
    "print(package.is_fragile)    \n",
    "\n",
    "# Exporting with original alias names\n",
    "print(package.model_dump(by_alias=True))"
   ]
  },
  {
   "cell_type": "code",
   "execution_count": 37,
   "id": "4eafaf9e",
   "metadata": {},
   "outputs": [
    {
     "name": "stdout",
     "output_type": "stream",
     "text": [
      "hi@gmail.com\n",
      "{'email': 'hi@gmail.com'}\n",
      "{'studentEmail': 'hi@gmail.com'}\n"
     ]
    }
   ],
   "source": [
    "# Example I\n",
    "class Student(BaseModel):\n",
    "    # email is the internal variable\n",
    "    email: str = Field(\n",
    "        validation_alias=\"student_email\",       # Accepts this as input\n",
    "        serialization_alias=\"studentEmail\"      # Outputs this name\n",
    "    )\n",
    "\n",
    "# Incoming data\n",
    "incoming_data = {\n",
    "    \"student_email\": \"hi@gmail.com\"\n",
    "}\n",
    "\n",
    "student = Student(**incoming_data)\n",
    "print(student.email) \n",
    "\n",
    "print(student.model_dump())  # {'email': 'hi@gmail.com'}\n",
    "print(student.model_dump(by_alias=True))  # {'studentEmail': 'hi@gmail.com'} - uses serialization alias!"
   ]
  },
  {
   "cell_type": "code",
   "execution_count": 38,
   "id": "556e956a",
   "metadata": {},
   "outputs": [
    {
     "name": "stdout",
     "output_type": "stream",
     "text": [
      "Pydantic Guide\n",
      "DataCamp\n",
      "{'title': 'Pydantic Guide', 'author': 'DataCamp'}\n",
      "{'bookTitle': 'Pydantic Guide', 'authorName': 'DataCamp'}\n"
     ]
    }
   ],
   "source": [
    "# Example II\n",
    "\n",
    "class Book(BaseModel):\n",
    "    title: str = Field(\n",
    "        validation_alias=\"book_title\",          # Input will use this\n",
    "        serialization_alias=\"bookTitle\"         # Output will use this\n",
    "    )\n",
    "    author: str = Field(\n",
    "        validation_alias=\"author_name\",         # Input will use this\n",
    "        serialization_alias=\"authorName\"        # Output will use this\n",
    "    )\n",
    "\n",
    "\n",
    "backend_data = {\n",
    "    \"book_title\": \"Pydantic Guide\",\n",
    "    \"author_name\": \"DataCamp\"\n",
    "}\n",
    "\n",
    "book = Book(**backend_data)\n",
    "\n",
    "print(book.title)\n",
    "print(book.author)  \n",
    "print(book.model_dump())  \n",
    "print(book.model_dump(by_alias=True))"
   ]
  },
  {
   "cell_type": "code",
   "execution_count": 41,
   "id": "b86898e4",
   "metadata": {},
   "outputs": [
    {
     "name": "stdout",
     "output_type": "stream",
     "text": [
      "name='Laptop' price=999.99 description='Very cool laptop'\n"
     ]
    }
   ],
   "source": [
    "# Numeric Limits - part of Validation which we will be covering soon\n",
    "\n",
    "class Product(BaseModel):\n",
    "    name: str = Field(min_length=1, max_length=50)\n",
    "    price: float = Field(gt=0)\n",
    "    description: str | None = Field(default=None, max_length=300)\n",
    "\n",
    "# Example usage\n",
    "valid_product = Product(name=\"Laptop\", price=999.99, description=\"Very cool laptop\")\n",
    "print(valid_product)"
   ]
  },
  {
   "cell_type": "code",
   "execution_count": null,
   "id": "e0453477",
   "metadata": {},
   "outputs": [],
   "source": [
    "# Now lets try to create an invalid product\n",
    "invalid_product = Product(name=\"\", price=-10)  # This will trigger 2 validation errors"
   ]
  },
  {
   "cell_type": "markdown",
   "id": "a891afc3",
   "metadata": {},
   "source": [
    "#### Exercise\n",
    "\n",
    "We need to create a Book model which has:\n",
    "1. Required title (string, 1-100 chars)\n",
    "2. Required author (string)\n",
    "3. Optional isbn\n",
    "4. price (positive float ≤1000)\n",
    "5. in_stock (boolean, default True)"
   ]
  },
  {
   "cell_type": "code",
   "execution_count": 43,
   "id": "9f12001d",
   "metadata": {},
   "outputs": [],
   "source": [
    "from pydantic import BaseModel, Field\n",
    "\n",
    "class Book(BaseModel):\n",
    "    title: str = Field(min_length=1, max_length=100)\n",
    "    author: str\n",
    "    isbn: str = Field(default = None)\n",
    "    price: float = Field(le =1000, gt = 0)\n",
    "    in_stock: bool = Field(default= True)\n",
    "\n",
    "valid_book = Book(\n",
    "    title=\"The Pragmatic Programmer\",\n",
    "    author=\"Andrew Hunt\",\n",
    "    price=29.99\n",
    ")"
   ]
  },
  {
   "cell_type": "markdown",
   "id": "387a0155",
   "metadata": {},
   "source": [
    "Note: ISBN (International Standard Book Number) is normally exactly 13 digits, so to be able to include that in our class, we would need to use `regex expressions`. \n",
    "\n",
    "These `regex expressions` provide constraints. In this example, we would have to define isbn as:\n",
    "\n",
    "\n",
    "```python\n",
    "isbn: str = Field(default = None, regex=r\"^\\d{13}$\")\n",
    "```\n",
    "\n",
    "However, this is beyond this tutorial since it required previous knowledge of `regex expressions`.\n",
    "\n",
    "There is another way to do this though 👀"
   ]
  },
  {
   "cell_type": "markdown",
   "id": "a6e37088",
   "metadata": {},
   "source": [
    "## Validation\n",
    "\n",
    "Validation is one of the biggest reasons we use Pydantic. We will exploring it in this section.\n",
    "\n",
    "`@model_validator` is used when we want to:\n",
    "\n",
    "1. Validate multiple fields together\n",
    "2. To perform logic that involves the whole model\n",
    "3. Run code before or after normal field validation"
   ]
  },
  {
   "cell_type": "code",
   "execution_count": 45,
   "id": "4a4827a3",
   "metadata": {},
   "outputs": [
    {
     "ename": "ValidationError",
     "evalue": "1 validation error for Event\n  Value error, end_hour must be greater than start_hour. Please fix this! [type=value_error, input_value={'name': 'Hackathon', 'st...our': 10, 'end_hour': 9}, input_type=dict]\n    For further information visit https://errors.pydantic.dev/2.11/v/value_error",
     "output_type": "error",
     "traceback": [
      "\u001b[31m---------------------------------------------------------------------------\u001b[39m",
      "\u001b[31mValidationError\u001b[39m                           Traceback (most recent call last)",
      "\u001b[36mCell\u001b[39m\u001b[36m \u001b[39m\u001b[32mIn[45]\u001b[39m\u001b[32m, line 16\u001b[39m\n\u001b[32m     11\u001b[39m             \u001b[38;5;28;01mraise\u001b[39;00m \u001b[38;5;167;01mValueError\u001b[39;00m(\u001b[33m\"\u001b[39m\u001b[33mend_hour must be greater than start_hour. Please fix this!\u001b[39m\u001b[33m\"\u001b[39m)\n\u001b[32m     13\u001b[39m         \u001b[38;5;28;01mreturn\u001b[39;00m \u001b[38;5;28mself\u001b[39m\n\u001b[32m---> \u001b[39m\u001b[32m16\u001b[39m event1 = \u001b[43mEvent\u001b[49m\u001b[43m(\u001b[49m\u001b[43mname\u001b[49m\u001b[43m=\u001b[49m\u001b[33;43m\"\u001b[39;49m\u001b[33;43mHackathon\u001b[39;49m\u001b[33;43m\"\u001b[39;49m\u001b[43m,\u001b[49m\u001b[43m \u001b[49m\u001b[43mstart_hour\u001b[49m\u001b[43m=\u001b[49m\u001b[32;43m10\u001b[39;49m\u001b[43m,\u001b[49m\u001b[43m \u001b[49m\u001b[43mend_hour\u001b[49m\u001b[43m=\u001b[49m\u001b[32;43m9\u001b[39;49m\u001b[43m)\u001b[49m \u001b[38;5;66;03m# How can start hour be before end hour (we are working in 24 hour clock)\u001b[39;00m\n",
      "\u001b[36mFile \u001b[39m\u001b[32mc:\\Vaibhav\\PND\\venv\\Lib\\site-packages\\pydantic\\main.py:253\u001b[39m, in \u001b[36mBaseModel.__init__\u001b[39m\u001b[34m(self, **data)\u001b[39m\n\u001b[32m    251\u001b[39m \u001b[38;5;66;03m# `__tracebackhide__` tells pytest and some other tools to omit this function from tracebacks\u001b[39;00m\n\u001b[32m    252\u001b[39m __tracebackhide__ = \u001b[38;5;28;01mTrue\u001b[39;00m\n\u001b[32m--> \u001b[39m\u001b[32m253\u001b[39m validated_self = \u001b[38;5;28;43mself\u001b[39;49m\u001b[43m.\u001b[49m\u001b[43m__pydantic_validator__\u001b[49m\u001b[43m.\u001b[49m\u001b[43mvalidate_python\u001b[49m\u001b[43m(\u001b[49m\u001b[43mdata\u001b[49m\u001b[43m,\u001b[49m\u001b[43m \u001b[49m\u001b[43mself_instance\u001b[49m\u001b[43m=\u001b[49m\u001b[38;5;28;43mself\u001b[39;49m\u001b[43m)\u001b[49m\n\u001b[32m    254\u001b[39m \u001b[38;5;28;01mif\u001b[39;00m \u001b[38;5;28mself\u001b[39m \u001b[38;5;129;01mis\u001b[39;00m \u001b[38;5;129;01mnot\u001b[39;00m validated_self:\n\u001b[32m    255\u001b[39m     warnings.warn(\n\u001b[32m    256\u001b[39m         \u001b[33m'\u001b[39m\u001b[33mA custom validator is returning a value other than `self`.\u001b[39m\u001b[38;5;130;01m\\n\u001b[39;00m\u001b[33m'\u001b[39m\n\u001b[32m    257\u001b[39m         \u001b[33m\"\u001b[39m\u001b[33mReturning anything other than `self` from a top level model validator isn\u001b[39m\u001b[33m'\u001b[39m\u001b[33mt supported when validating via `__init__`.\u001b[39m\u001b[38;5;130;01m\\n\u001b[39;00m\u001b[33m\"\u001b[39m\n\u001b[32m    258\u001b[39m         \u001b[33m'\u001b[39m\u001b[33mSee the `model_validator` docs (https://docs.pydantic.dev/latest/concepts/validators/#model-validators) for more details.\u001b[39m\u001b[33m'\u001b[39m,\n\u001b[32m    259\u001b[39m         stacklevel=\u001b[32m2\u001b[39m,\n\u001b[32m    260\u001b[39m     )\n",
      "\u001b[31mValidationError\u001b[39m: 1 validation error for Event\n  Value error, end_hour must be greater than start_hour. Please fix this! [type=value_error, input_value={'name': 'Hackathon', 'st...our': 10, 'end_hour': 9}, input_type=dict]\n    For further information visit https://errors.pydantic.dev/2.11/v/value_error"
     ]
    }
   ],
   "source": [
    "from pydantic import BaseModel, model_validator\n",
    "\n",
    "class Event(BaseModel):\n",
    "    name: str\n",
    "    start_hour: int\n",
    "    end_hour: int\n",
    "\n",
    "    @model_validator(mode='after') # Use a decorator \n",
    "    def check_time(self):\n",
    "        if self.end_hour <= self.start_hour:\n",
    "            raise ValueError(\"end_hour must be greater than start_hour. Please fix this!\")\n",
    "            \n",
    "        return self\n",
    "\n",
    "\n",
    "event1 = Event(name=\"Hackathon\", start_hour=10, end_hour=9) # How can start hour be before end hour (we are working in 24 hour clock)"
   ]
  },
  {
   "cell_type": "markdown",
   "id": "82955ad9",
   "metadata": {},
   "source": [
    "You might have noticed there is a mode parameter in the `@model_validator` and that we have 2 options:\n",
    "\n",
    "1. `before` - before validation\n",
    "2. `after` - after validation \n",
    "\n",
    "\n",
    "Let's take a look at an example and a vizualisation to help you understand this fully:\n",
    "\n",
    "<div align=\"center\">\n",
    "  <img src=\"pydantic_validation_flow.png\" alt=\"Pydantic Validation Flow\" width=\"500\"/>\n",
    "</div>\n",
    "\n",
    "\n",
    "**Code:**\n",
    "```python\n",
    "class User(BaseModel):\n",
    "    age: int\n",
    "\n",
    "User(age=\"25\")\n",
    "```\n",
    "\n",
    "- `Before validation:` age is \"25\" → still a string\n",
    "- `After validation:` age is 25 → now an integer "
   ]
  },
  {
   "cell_type": "code",
   "execution_count": 46,
   "id": "1bc7de30",
   "metadata": {},
   "outputs": [
    {
     "name": "stdout",
     "output_type": "stream",
     "text": [
      "Before validator sees raw input: {'pickup': 15, 'drop': 13}\n",
      "After model validation: {'pickup': 13, 'drop': 15}\n"
     ]
    }
   ],
   "source": [
    "# Before Validation\n",
    "\n",
    "class Delivery(BaseModel):\n",
    "    pickup: int\n",
    "    drop: int\n",
    "\n",
    "    @model_validator(mode='before')\n",
    "    @classmethod \n",
    "    def fix_input(cls, data):\n",
    "        print(\"Before validator sees raw input:\", data)\n",
    "        # Let's swap them if they are reversed\n",
    "        if int(data['drop']) < int(data['pickup']):\n",
    "            data['pickup'], data['drop'] = data['drop'], data['pickup']\n",
    "        return data\n",
    "    \n",
    "\n",
    "order1 = Delivery(pickup=15, drop = 13)\n",
    "print(\"After model validation:\", order1.model_dump())"
   ]
  },
  {
   "cell_type": "markdown",
   "id": "510366cf",
   "metadata": {},
   "source": [
    "`@model_validator()` can handle multiple fields, but what if we want to only focus on only one?\n",
    "\n",
    "\n",
    "`@field_validator` is focused on only one field. Let's take a look at this now:"
   ]
  },
  {
   "cell_type": "code",
   "execution_count": 48,
   "id": "e2cea169",
   "metadata": {},
   "outputs": [
    {
     "ename": "ValidationError",
     "evalue": "1 validation error for Product\nprice\n  Value error, Price must be greater than 0 [type=value_error, input_value=-10, input_type=int]\n    For further information visit https://errors.pydantic.dev/2.11/v/value_error",
     "output_type": "error",
     "traceback": [
      "\u001b[31m---------------------------------------------------------------------------\u001b[39m",
      "\u001b[31mValidationError\u001b[39m                           Traceback (most recent call last)",
      "\u001b[36mCell\u001b[39m\u001b[36m \u001b[39m\u001b[32mIn[48]\u001b[39m\u001b[32m, line 13\u001b[39m\n\u001b[32m      9\u001b[39m             \u001b[38;5;28;01mraise\u001b[39;00m \u001b[38;5;167;01mValueError\u001b[39;00m(\u001b[33m\"\u001b[39m\u001b[33mPrice must be greater than 0\u001b[39m\u001b[33m\"\u001b[39m)\n\u001b[32m     10\u001b[39m         \u001b[38;5;28;01mreturn\u001b[39;00m value\n\u001b[32m---> \u001b[39m\u001b[32m13\u001b[39m product1 = \u001b[43mProduct\u001b[49m\u001b[43m(\u001b[49m\u001b[43mprice\u001b[49m\u001b[43m \u001b[49m\u001b[43m=\u001b[49m\u001b[43m \u001b[49m\u001b[43m-\u001b[49m\u001b[32;43m10\u001b[39;49m\u001b[43m)\u001b[49m \u001b[38;5;66;03m# This can also be achieved using the `Field`\u001b[39;00m\n",
      "\u001b[36mFile \u001b[39m\u001b[32mc:\\Vaibhav\\PND\\venv\\Lib\\site-packages\\pydantic\\main.py:253\u001b[39m, in \u001b[36mBaseModel.__init__\u001b[39m\u001b[34m(self, **data)\u001b[39m\n\u001b[32m    251\u001b[39m \u001b[38;5;66;03m# `__tracebackhide__` tells pytest and some other tools to omit this function from tracebacks\u001b[39;00m\n\u001b[32m    252\u001b[39m __tracebackhide__ = \u001b[38;5;28;01mTrue\u001b[39;00m\n\u001b[32m--> \u001b[39m\u001b[32m253\u001b[39m validated_self = \u001b[38;5;28;43mself\u001b[39;49m\u001b[43m.\u001b[49m\u001b[43m__pydantic_validator__\u001b[49m\u001b[43m.\u001b[49m\u001b[43mvalidate_python\u001b[49m\u001b[43m(\u001b[49m\u001b[43mdata\u001b[49m\u001b[43m,\u001b[49m\u001b[43m \u001b[49m\u001b[43mself_instance\u001b[49m\u001b[43m=\u001b[49m\u001b[38;5;28;43mself\u001b[39;49m\u001b[43m)\u001b[49m\n\u001b[32m    254\u001b[39m \u001b[38;5;28;01mif\u001b[39;00m \u001b[38;5;28mself\u001b[39m \u001b[38;5;129;01mis\u001b[39;00m \u001b[38;5;129;01mnot\u001b[39;00m validated_self:\n\u001b[32m    255\u001b[39m     warnings.warn(\n\u001b[32m    256\u001b[39m         \u001b[33m'\u001b[39m\u001b[33mA custom validator is returning a value other than `self`.\u001b[39m\u001b[38;5;130;01m\\n\u001b[39;00m\u001b[33m'\u001b[39m\n\u001b[32m    257\u001b[39m         \u001b[33m\"\u001b[39m\u001b[33mReturning anything other than `self` from a top level model validator isn\u001b[39m\u001b[33m'\u001b[39m\u001b[33mt supported when validating via `__init__`.\u001b[39m\u001b[38;5;130;01m\\n\u001b[39;00m\u001b[33m\"\u001b[39m\n\u001b[32m    258\u001b[39m         \u001b[33m'\u001b[39m\u001b[33mSee the `model_validator` docs (https://docs.pydantic.dev/latest/concepts/validators/#model-validators) for more details.\u001b[39m\u001b[33m'\u001b[39m,\n\u001b[32m    259\u001b[39m         stacklevel=\u001b[32m2\u001b[39m,\n\u001b[32m    260\u001b[39m     )\n",
      "\u001b[31mValidationError\u001b[39m: 1 validation error for Product\nprice\n  Value error, Price must be greater than 0 [type=value_error, input_value=-10, input_type=int]\n    For further information visit https://errors.pydantic.dev/2.11/v/value_error"
     ]
    }
   ],
   "source": [
    "from pydantic import BaseModel, field_validator # importing field_validator\n",
    "\n",
    "class Product(BaseModel):\n",
    "    price: float\n",
    "\n",
    "    @field_validator(\"price\")\n",
    "    def must_be_positive(value):\n",
    "        if value <= 0:\n",
    "            raise ValueError(\"Price must be greater than 0\")\n",
    "        return value\n",
    "\n",
    "\n",
    "product1 = Product(price = -10) # This can also be achieved using the `Field`"
   ]
  },
  {
   "cell_type": "markdown",
   "id": "dc9958f6",
   "metadata": {},
   "source": [
    "## Built‑in Types\n",
    "\n",
    "Pydantic ships helpers that wrap common patterns—no regex or extra code. This makes development easier and more efficient!\n",
    "\n",
    "🛠️ Lets take a look at a built-in example:\n"
   ]
  },
  {
   "cell_type": "code",
   "execution_count": 52,
   "id": "d176488c",
   "metadata": {},
   "outputs": [
    {
     "name": "stdout",
     "output_type": "stream",
     "text": [
      "{'email': 'vaibhav@example.com', 'website': HttpUrl('https://example.com/'), 'followers': 10}\n"
     ]
    }
   ],
   "source": [
    "from pydantic import BaseModel, EmailStr, HttpUrl, PositiveInt\n",
    "\n",
    "class Contact(BaseModel):\n",
    "    email: EmailStr          # eg: If we remove the .com it will not work!\n",
    "    website: HttpUrl        \n",
    "    followers: PositiveInt   # Must be > 0\n",
    "\n",
    "good = Contact(\n",
    "    email=\"vaibhav@example.com\",\n",
    "    website=\"https://example.com\",\n",
    "    followers=10\n",
    ")\n",
    "print(good.model_dump())"
   ]
  },
  {
   "cell_type": "markdown",
   "id": "3497a02f",
   "metadata": {},
   "source": [
    "### Nested Models\n",
    "\n",
    "A **nested model** is when one Pydantic model is inside another model.\n",
    "\n",
    "It helps us to organize data cleanly, like JSON objects inside objects."
   ]
  },
  {
   "cell_type": "code",
   "execution_count": 53,
   "id": "17d8f9f9",
   "metadata": {},
   "outputs": [
    {
     "name": "stdout",
     "output_type": "stream",
     "text": [
      "London\n"
     ]
    }
   ],
   "source": [
    "# No additional imports needed!\n",
    "\n",
    "class Address(BaseModel):\n",
    "    street: str\n",
    "    city: str\n",
    "    postcode: str\n",
    "\n",
    "class User(BaseModel):\n",
    "    name: str\n",
    "    email: str\n",
    "    address: Address  \n",
    "\n",
    "data = {\n",
    "    \"name\": \"Robert\",\n",
    "    \"email\": \"robert@gmail.com\",\n",
    "    \"address\": {\n",
    "        \"street\": \"123 UCL Road\",\n",
    "        \"city\": \"London\",\n",
    "        \"postcode\": \"AB1 2CD\" # this postcode is completly made up btw!\n",
    "    }\n",
    "}\n",
    "\n",
    "user = User(**data)\n",
    "print(user.address.city)\n"
   ]
  },
  {
   "cell_type": "code",
   "execution_count": 56,
   "id": "ec7e40a7",
   "metadata": {},
   "outputs": [
    {
     "name": "stdout",
     "output_type": "stream",
     "text": [
      "{'name': 'Learn Pydantic', 'instructor': 'Vaibhav', 'lessons': [{'title': 'Basic Models', 'duration_minutes': 10, 'is_free': True}, {'title': 'Aliases', 'duration_minutes': 20, 'is_free': False}, {'title': 'Validation', 'duration_minutes': 30, 'is_free': False}]}\n"
     ]
    }
   ],
   "source": [
    "# Lets do another, more difficult example together!\n",
    "\n",
    "# This time we will be creating a list of lessons:\n",
    "from typing import List # importing list\n",
    "\n",
    "class Lesson(BaseModel):\n",
    "    title: str\n",
    "    duration_minutes: int\n",
    "    is_free: bool\n",
    "\n",
    "class Tutorial(BaseModel):\n",
    "    name: str\n",
    "    instructor: str\n",
    "    lessons: List[Lesson]\n",
    "\n",
    "\n",
    "data = {\n",
    "    \"name\": \"Learn Pydantic\",\n",
    "    \"instructor\": \"Vaibhav\",\n",
    "    \"lessons\": [\n",
    "        {\"title\": \"Basic Models\", \"duration_minutes\": 10, \"is_free\": True},\n",
    "        {\"title\": \"Aliases\", \"duration_minutes\": 20, \"is_free\": False},\n",
    "        {\"title\": \"Validation\", \"duration_minutes\": 30, \"is_free\": False}\n",
    "    ]\n",
    "}\n",
    "\n",
    "pydantic_lesson = Tutorial(**data)\n",
    "print(pydantic_lesson.model_dump())\n"
   ]
  },
  {
   "cell_type": "markdown",
   "id": "bdf30971",
   "metadata": {},
   "source": [
    "### Recursive Models\n",
    "\n",
    "Similar to Nested Models, we can create Recursive Models."
   ]
  },
  {
   "cell_type": "code",
   "execution_count": 57,
   "id": "4b93aa02",
   "metadata": {},
   "outputs": [
    {
     "name": "stdout",
     "output_type": "stream",
     "text": [
      "{'name': 'root', 'children': [{'name': 'child_1', 'children': [{'name': 'grandchild_1', 'children': None}, {'name': 'grandchild_2', 'children': None}]}, {'name': 'child_2', 'children': [{'name': 'grandchild_3', 'children': None}]}]}\n"
     ]
    }
   ],
   "source": [
    "from pydantic import BaseModel\n",
    "from typing import List, Optional\n",
    "\n",
    "class FamilyTree(BaseModel):\n",
    "    name: str\n",
    "    children: Optional[List[\"FamilyTree\"]] = None  # Use string for forward reference\n",
    "\n",
    "FamilyTree.model_rebuild() # This tells Pydantic to fully build the model after the whole class is defined\n",
    "\n",
    "data = {\n",
    "    \"name\": \"root\",\n",
    "    \"children\": [\n",
    "        {\n",
    "            \"name\": \"child_1\",\n",
    "            \"children\": [\n",
    "                {\"name\": \"grandchild_1\"},\n",
    "                {\"name\": \"grandchild_2\"}\n",
    "            ]\n",
    "        },\n",
    "        {\"name\": \"child_2\",\n",
    "         \"children\": [{\"name\": \"grandchild_3\"}]}\n",
    "    ]\n",
    "}\n",
    "\n",
    "tree = FamilyTree(**data)\n",
    "print(tree.model_dump())\n"
   ]
  },
  {
   "cell_type": "code",
   "execution_count": 58,
   "id": "fc626c66",
   "metadata": {},
   "outputs": [
    {
     "name": "stdout",
     "output_type": "stream",
     "text": [
      "root\n",
      "  child_1\n",
      "    grandchild_1\n",
      "    grandchild_2\n",
      "  child_2\n",
      "    grandchild_3\n"
     ]
    }
   ],
   "source": [
    "# I wrote this function for visualization purposes\n",
    "def print_family_tree(node, indent=0):\n",
    "    print(\" \" * indent + node.name)\n",
    "    if node.children:\n",
    "        for child in node.children:\n",
    "            print_family_tree(child, indent + 2)\n",
    "\n",
    "print_family_tree(tree)\n"
   ]
  },
  {
   "cell_type": "markdown",
   "id": "af3aca64",
   "metadata": {},
   "source": [
    "# Congratulations! 🎉\n",
    "\n",
    "\n",
    "We covered:\n",
    "1. Basic Models\n",
    "2. Field Types\n",
    "3. Aliasing\n",
    "4. Validation\n",
    "5. Built-In Types\n",
    "6. Nested Models\n",
    "7. Recursive Models\n",
    "\n",
    "Where to go from here:\n",
    "\n",
    "- https://www.datacamp.com/tutorial/pydantic\n",
    "- https://www.datacamp.com/tutorial/python-user-input\n",
    "- https://datacamp.com/courses/introduction-to-fastapi\n",
    "- https://campus.datacamp.com/courses/model-validation-in-python\n",
    "- https://campus.datacamp.com/courses/intermediate-python\n"
   ]
  },
  {
   "cell_type": "code",
   "execution_count": null,
   "id": "3cfdc79e",
   "metadata": {},
   "outputs": [],
   "source": []
  }
 ],
 "metadata": {
  "kernelspec": {
   "display_name": "venv",
   "language": "python",
   "name": "python3"
  },
  "language_info": {
   "codemirror_mode": {
    "name": "ipython",
    "version": 3
   },
   "file_extension": ".py",
   "mimetype": "text/x-python",
   "name": "python",
   "nbconvert_exporter": "python",
   "pygments_lexer": "ipython3",
   "version": "3.12.6"
  }
 },
 "nbformat": 4,
 "nbformat_minor": 5
}
